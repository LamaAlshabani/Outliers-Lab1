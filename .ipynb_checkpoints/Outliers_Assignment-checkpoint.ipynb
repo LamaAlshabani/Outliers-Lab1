{
 "cells": [
  {
   "cell_type": "markdown",
   "id": "timely-involvement",
   "metadata": {},
   "source": [
    "### Import your librares"
   ]
  },
  {
   "cell_type": "code",
   "execution_count": 1,
   "id": "dramatic-briefs",
   "metadata": {},
   "outputs": [],
   "source": [
    "import pandas as pd \n",
    "import numpy as np \n",
    "import matplotlib.pyplot as plt \n",
    "import seaborn as sns\n",
    "import warnings\n",
    "warnings.filterwarnings(\"ignore\")"
   ]
  },
  {
   "cell_type": "markdown",
   "id": "australian-softball",
   "metadata": {},
   "source": [
    "### Load your dataset"
   ]
  },
  {
   "cell_type": "code",
   "execution_count": 2,
   "id": "average-recipient",
   "metadata": {},
   "outputs": [
    {
     "data": {
      "text/html": [
       "<div>\n",
       "<style scoped>\n",
       "    .dataframe tbody tr th:only-of-type {\n",
       "        vertical-align: middle;\n",
       "    }\n",
       "\n",
       "    .dataframe tbody tr th {\n",
       "        vertical-align: top;\n",
       "    }\n",
       "\n",
       "    .dataframe thead th {\n",
       "        text-align: right;\n",
       "    }\n",
       "</style>\n",
       "<table border=\"1\" class=\"dataframe\">\n",
       "  <thead>\n",
       "    <tr style=\"text-align: right;\">\n",
       "      <th></th>\n",
       "      <th>DATE</th>\n",
       "      <th>PRCP</th>\n",
       "      <th>TMAX</th>\n",
       "      <th>TMIN</th>\n",
       "      <th>RAIN</th>\n",
       "    </tr>\n",
       "  </thead>\n",
       "  <tbody>\n",
       "    <tr>\n",
       "      <th>0</th>\n",
       "      <td>1948-01-01</td>\n",
       "      <td>0.47</td>\n",
       "      <td>51</td>\n",
       "      <td>42</td>\n",
       "      <td>True</td>\n",
       "    </tr>\n",
       "    <tr>\n",
       "      <th>1</th>\n",
       "      <td>1948-01-02</td>\n",
       "      <td>0.59</td>\n",
       "      <td>45</td>\n",
       "      <td>36</td>\n",
       "      <td>True</td>\n",
       "    </tr>\n",
       "    <tr>\n",
       "      <th>2</th>\n",
       "      <td>1948-01-03</td>\n",
       "      <td>0.42</td>\n",
       "      <td>45</td>\n",
       "      <td>35</td>\n",
       "      <td>True</td>\n",
       "    </tr>\n",
       "    <tr>\n",
       "      <th>3</th>\n",
       "      <td>1948-01-04</td>\n",
       "      <td>0.31</td>\n",
       "      <td>45</td>\n",
       "      <td>34</td>\n",
       "      <td>True</td>\n",
       "    </tr>\n",
       "    <tr>\n",
       "      <th>4</th>\n",
       "      <td>1948-01-05</td>\n",
       "      <td>0.17</td>\n",
       "      <td>45</td>\n",
       "      <td>32</td>\n",
       "      <td>True</td>\n",
       "    </tr>\n",
       "  </tbody>\n",
       "</table>\n",
       "</div>"
      ],
      "text/plain": [
       "         DATE  PRCP  TMAX  TMIN  RAIN\n",
       "0  1948-01-01  0.47    51    42  True\n",
       "1  1948-01-02  0.59    45    36  True\n",
       "2  1948-01-03  0.42    45    35  True\n",
       "3  1948-01-04  0.31    45    34  True\n",
       "4  1948-01-05  0.17    45    32  True"
      ]
     },
     "execution_count": 2,
     "metadata": {},
     "output_type": "execute_result"
    }
   ],
   "source": [
    "df = pd.read_csv(\"seattle_weather.csv\")\n",
    "df.head()"
   ]
  },
  {
   "cell_type": "markdown",
   "id": "9f68b54e",
   "metadata": {},
   "source": [
    "### Handle missing data in PRCP and RAIN columns"
   ]
  },
  {
   "cell_type": "code",
   "execution_count": 3,
   "id": "0801bd07",
   "metadata": {},
   "outputs": [
    {
     "data": {
      "text/plain": [
       "DATE    0\n",
       "PRCP    3\n",
       "TMAX    0\n",
       "TMIN    0\n",
       "RAIN    3\n",
       "dtype: int64"
      ]
     },
     "execution_count": 3,
     "metadata": {},
     "output_type": "execute_result"
    }
   ],
   "source": [
    "df.isna().sum()"
   ]
  },
  {
   "cell_type": "code",
   "execution_count": 4,
   "id": "143a2c09",
   "metadata": {},
   "outputs": [],
   "source": [
    "df['DATE'] = pd.to_datetime(df['DATE'], errors='coerce')"
   ]
  },
  {
   "cell_type": "code",
   "execution_count": 5,
   "id": "03e026c6",
   "metadata": {},
   "outputs": [
    {
     "data": {
      "text/html": [
       "<div>\n",
       "<style scoped>\n",
       "    .dataframe tbody tr th:only-of-type {\n",
       "        vertical-align: middle;\n",
       "    }\n",
       "\n",
       "    .dataframe tbody tr th {\n",
       "        vertical-align: top;\n",
       "    }\n",
       "\n",
       "    .dataframe thead th {\n",
       "        text-align: right;\n",
       "    }\n",
       "</style>\n",
       "<table border=\"1\" class=\"dataframe\">\n",
       "  <thead>\n",
       "    <tr style=\"text-align: right;\">\n",
       "      <th></th>\n",
       "      <th>DATE</th>\n",
       "      <th>PRCP</th>\n",
       "      <th>TMAX</th>\n",
       "      <th>TMIN</th>\n",
       "      <th>RAIN</th>\n",
       "    </tr>\n",
       "  </thead>\n",
       "  <tbody>\n",
       "    <tr>\n",
       "      <th>0</th>\n",
       "      <td>1948-01-01</td>\n",
       "      <td>0.47</td>\n",
       "      <td>51</td>\n",
       "      <td>42</td>\n",
       "      <td>True</td>\n",
       "    </tr>\n",
       "    <tr>\n",
       "      <th>1</th>\n",
       "      <td>1948-01-02</td>\n",
       "      <td>0.59</td>\n",
       "      <td>45</td>\n",
       "      <td>36</td>\n",
       "      <td>True</td>\n",
       "    </tr>\n",
       "    <tr>\n",
       "      <th>2</th>\n",
       "      <td>1948-01-03</td>\n",
       "      <td>0.42</td>\n",
       "      <td>45</td>\n",
       "      <td>35</td>\n",
       "      <td>True</td>\n",
       "    </tr>\n",
       "    <tr>\n",
       "      <th>3</th>\n",
       "      <td>1948-01-04</td>\n",
       "      <td>0.31</td>\n",
       "      <td>45</td>\n",
       "      <td>34</td>\n",
       "      <td>True</td>\n",
       "    </tr>\n",
       "    <tr>\n",
       "      <th>4</th>\n",
       "      <td>1948-01-05</td>\n",
       "      <td>0.17</td>\n",
       "      <td>45</td>\n",
       "      <td>32</td>\n",
       "      <td>True</td>\n",
       "    </tr>\n",
       "    <tr>\n",
       "      <th>...</th>\n",
       "      <td>...</td>\n",
       "      <td>...</td>\n",
       "      <td>...</td>\n",
       "      <td>...</td>\n",
       "      <td>...</td>\n",
       "    </tr>\n",
       "    <tr>\n",
       "      <th>25546</th>\n",
       "      <td>2017-12-10</td>\n",
       "      <td>0.00</td>\n",
       "      <td>49</td>\n",
       "      <td>34</td>\n",
       "      <td>False</td>\n",
       "    </tr>\n",
       "    <tr>\n",
       "      <th>25547</th>\n",
       "      <td>2017-12-11</td>\n",
       "      <td>0.00</td>\n",
       "      <td>49</td>\n",
       "      <td>29</td>\n",
       "      <td>False</td>\n",
       "    </tr>\n",
       "    <tr>\n",
       "      <th>25548</th>\n",
       "      <td>2017-12-12</td>\n",
       "      <td>0.00</td>\n",
       "      <td>46</td>\n",
       "      <td>32</td>\n",
       "      <td>False</td>\n",
       "    </tr>\n",
       "    <tr>\n",
       "      <th>25549</th>\n",
       "      <td>2017-12-13</td>\n",
       "      <td>0.00</td>\n",
       "      <td>48</td>\n",
       "      <td>34</td>\n",
       "      <td>False</td>\n",
       "    </tr>\n",
       "    <tr>\n",
       "      <th>25550</th>\n",
       "      <td>2017-12-14</td>\n",
       "      <td>0.00</td>\n",
       "      <td>50</td>\n",
       "      <td>36</td>\n",
       "      <td>False</td>\n",
       "    </tr>\n",
       "  </tbody>\n",
       "</table>\n",
       "<p>25551 rows × 5 columns</p>\n",
       "</div>"
      ],
      "text/plain": [
       "            DATE  PRCP  TMAX  TMIN   RAIN\n",
       "0     1948-01-01  0.47    51    42   True\n",
       "1     1948-01-02  0.59    45    36   True\n",
       "2     1948-01-03  0.42    45    35   True\n",
       "3     1948-01-04  0.31    45    34   True\n",
       "4     1948-01-05  0.17    45    32   True\n",
       "...          ...   ...   ...   ...    ...\n",
       "25546 2017-12-10  0.00    49    34  False\n",
       "25547 2017-12-11  0.00    49    29  False\n",
       "25548 2017-12-12  0.00    46    32  False\n",
       "25549 2017-12-13  0.00    48    34  False\n",
       "25550 2017-12-14  0.00    50    36  False\n",
       "\n",
       "[25551 rows x 5 columns]"
      ]
     },
     "execution_count": 5,
     "metadata": {},
     "output_type": "execute_result"
    }
   ],
   "source": [
    "df.sort_values(by=\"DATE\", ascending=True , inplace=True)\n",
    "df"
   ]
  },
  {
   "cell_type": "markdown",
   "id": "27bf9073",
   "metadata": {},
   "source": [
    "## PRCP column"
   ]
  },
  {
   "cell_type": "code",
   "execution_count": 6,
   "id": "1df1c3c0",
   "metadata": {},
   "outputs": [
    {
     "name": "stdout",
     "output_type": "stream",
     "text": [
      "var =  0.05713603840671194\n"
     ]
    },
    {
     "data": {
      "image/png": "[encoded data removed]",
      "text/plain": [
       "<Figure size 640x480 with 1 Axes>"
      ]
     },
     "metadata": {},
     "output_type": "display_data"
    }
   ],
   "source": [
    "df.PRCP.plot(kind=\"hist\", bins=20, title=\"PRCP Distribution\");\n",
    "var1=df.PRCP.var()\n",
    "print(\"var = \" , var1)"
   ]
  },
  {
   "cell_type": "code",
   "execution_count": 7,
   "id": "1ea0c9e3",
   "metadata": {},
   "outputs": [
    {
     "name": "stdout",
     "output_type": "stream",
     "text": [
      "var =  0.05713065433662097\n"
     ]
    },
    {
     "data": {
      "image/png": "[encoded data removed]",
      "text/plain": [
       "<Figure size 640x480 with 1 Axes>"
      ]
     },
     "metadata": {},
     "output_type": "display_data"
    }
   ],
   "source": [
    "df_bfill=df.copy()\n",
    "df_bfill['PRCP'].fillna(method=\"bfill\", inplace =True)\n",
    "df_bfill.PRCP.plot(kind=\"hist\", bins=20, title=\"PRCP Distribution After fill backward \");\n",
    "var2=df_bfill.PRCP.var()\n",
    "print(\"var = \" , var2)"
   ]
  },
  {
   "cell_type": "code",
   "execution_count": 8,
   "id": "e59427e0",
   "metadata": {},
   "outputs": [
    {
     "name": "stdout",
     "output_type": "stream",
     "text": [
      "var =  0.05713065433662097\n"
     ]
    },
    {
     "data": {
      "image/png": "[encoded data removed]",
      "text/plain": [
       "<Figure size 640x480 with 1 Axes>"
      ]
     },
     "metadata": {},
     "output_type": "display_data"
    }
   ],
   "source": [
    "df_ffill=df.copy()\n",
    "df_ffill['PRCP'].fillna(method=\"ffill\", inplace =True)\n",
    "df_ffill.PRCP.plot(kind=\"hist\", bins=20, title=\"PRCP Distribution After fill forward \");\n",
    "var3=df_ffill.PRCP.var()\n",
    "print(\"var = \" , var3)"
   ]
  },
  {
   "cell_type": "markdown",
   "id": "14d75183",
   "metadata": {},
   "source": [
    "## RAIN column"
   ]
  },
  {
   "cell_type": "code",
   "execution_count": 9,
   "id": "6711cdb8",
   "metadata": {},
   "outputs": [
    {
     "name": "stdout",
     "output_type": "stream",
     "text": [
      "var =  0.24462904154362605\n"
     ]
    }
   ],
   "source": [
    "var11=df.RAIN.var()\n",
    "print(\"var = \" , var11)"
   ]
  },
  {
   "cell_type": "code",
   "execution_count": 10,
   "id": "aee3bae5",
   "metadata": {},
   "outputs": [
    {
     "name": "stdout",
     "output_type": "stream",
     "text": [
      "var =  0.24462904154362605\n"
     ]
    }
   ],
   "source": [
    "df_bfill_RAIN=df.copy()\n",
    "df_bfill_RAIN['RAIN'].fillna(method=\"bfill\", inplace =True)\n",
    "var22=df_bfill.RAIN.var()\n",
    "print(\"var = \" , var22)"
   ]
  },
  {
   "cell_type": "code",
   "execution_count": 11,
   "id": "cefdca85",
   "metadata": {},
   "outputs": [
    {
     "name": "stdout",
     "output_type": "stream",
     "text": [
      "var =  0.24462168866671707\n"
     ]
    }
   ],
   "source": [
    "df_ffill_RAIN=df.copy()\n",
    "df_ffill_RAIN['RAIN'].fillna(method=\"ffill\", inplace =True)\n",
    "var33=df_ffill_RAIN.RAIN.var()\n",
    "print(\"var = \" , var33)"
   ]
  },
  {
   "cell_type": "markdown",
   "id": "07e9f434",
   "metadata": {},
   "source": [
    "## conclusion :"
   ]
  },
  {
   "cell_type": "markdown",
   "id": "ea96e258",
   "metadata": {},
   "source": [
    "### After looking at the variance, we see that in the PRCP column, the forward method and the backward method have the same variance value, which is not far from the original value, but in the RAIN column, we notice that the backward method gives us the same original value of the variance, so we will apply the backward method on all columns"
   ]
  },
  {
   "cell_type": "code",
   "execution_count": 12,
   "id": "340383bf",
   "metadata": {},
   "outputs": [
    {
     "data": {
      "text/plain": [
       "DATE    0\n",
       "PRCP    0\n",
       "TMAX    0\n",
       "TMIN    0\n",
       "RAIN    0\n",
       "dtype: int64"
      ]
     },
     "execution_count": 12,
     "metadata": {},
     "output_type": "execute_result"
    }
   ],
   "source": [
    "df.RAIN.bfill(inplace=True)\n",
    "df.PRCP.bfill(inplace=True)\n",
    "df.isnull().sum()"
   ]
  },
  {
   "cell_type": "markdown",
   "id": "monthly-meter",
   "metadata": {},
   "source": [
    "### Repeat the following steps for each column within outliers\n",
    "\n",
    "* Visualize the outliers\n",
    "* Detect if your data set contains any outliers\n",
    "* Identify lower & higher limit of outliers\n",
    "* Drop all outliers\n",
    "* Visualize the column after processing\n"
   ]
  },
  {
   "cell_type": "code",
   "execution_count": 13,
   "id": "enhanced-forge",
   "metadata": {},
   "outputs": [
    {
     "data": {
      "image/png": "[encoded data removed]",
      "text/plain": [
       "<Figure size 640x480 with 1 Axes>"
      ]
     },
     "metadata": {},
     "output_type": "display_data"
    }
   ],
   "source": [
    "#boxplot before dropping outliers\n",
    "sns.boxplot(data=df);"
   ]
  },
  {
   "cell_type": "code",
   "execution_count": 14,
   "id": "professional-error",
   "metadata": {},
   "outputs": [],
   "source": [
    "def Find_Outliers(column):\n",
    "    Q1 = np.percentile(df[{column}], 25, interpolation = 'midpoint')\n",
    "    Q3 = np.percentile(df[{column}], 75, interpolation = 'midpoint')\n",
    "    IQR = Q3 - Q1\n",
    "    higherbound = Q3 + 1.5*(IQR)    \n",
    "    lowerbound = Q1 - 1.5*(IQR)\n",
    "    print(f'higher bound outliersfor {column}', Q3 + 1.5*(IQR))\n",
    "    print(f'lower bound outliers for {column} ', Q1 - 1.5*(IQR))\n",
    "    \n",
    "def Drop_Outliers(column,max,min):\n",
    "    DF = df.drop(df[(df[column] > max) | (df[column] < min)].index)\n",
    "    return DF\n",
    "    "
   ]
  },
  {
   "cell_type": "code",
   "execution_count": 15,
   "id": "daily-crime",
   "metadata": {},
   "outputs": [
    {
     "name": "stdout",
     "output_type": "stream",
     "text": [
      "higher bound outliersfor PRCP 0.25\n",
      "lower bound outliers for PRCP  -0.15000000000000002\n",
      "higher bound outliersfor TMAX 97.5\n",
      "lower bound outliers for TMAX  21.5\n",
      "higher bound outliersfor TMIN 73.0\n",
      "lower bound outliers for TMIN  17.0\n"
     ]
    }
   ],
   "source": [
    "Find_Outliers(\"PRCP\")\n",
    "Find_Outliers(\"TMAX\")\n",
    "Find_Outliers(\"TMIN\")"
   ]
  },
  {
   "cell_type": "code",
   "execution_count": 16,
   "id": "4f81f1fc",
   "metadata": {},
   "outputs": [],
   "source": [
    "df=Drop_Outliers('TMAX' , 97.5 , 21.5)\n",
    "df=Drop_Outliers('TMIN' , 73.0 , 17.0)\n",
    "df=Drop_Outliers('PRCP', 0.25 , -0.15000000000000002)"
   ]
  },
  {
   "cell_type": "code",
   "execution_count": 17,
   "id": "38f7dbf7",
   "metadata": {},
   "outputs": [
    {
     "data": {
      "image/png": "[encoded data removed]",
      "text/plain": [
       "<Figure size 640x480 with 1 Axes>"
      ]
     },
     "metadata": {},
     "output_type": "display_data"
    }
   ],
   "source": [
    "#boxplot After dropping outliers\n",
    "sns.boxplot(data=df);"
   ]
  }
 ],
 "metadata": {
  "kernelspec": {
   "display_name": "Python 3 (ipykernel)",
   "language": "python",
   "name": "python3"
  },
  "language_info": {
   "codemirror_mode": {
    "name": "ipython",
    "version": 3
   },
   "file_extension": ".py",
   "mimetype": "text/x-python",
   "name": "python",
   "nbconvert_exporter": "python",
   "pygments_lexer": "ipython3",
   "version": "3.10.9"
  }
 },
 "nbformat": 4,
 "nbformat_minor": 5
}
